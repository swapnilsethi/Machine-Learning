{
 "cells": [
  {
   "cell_type": "code",
   "execution_count": 8,
   "id": "f5a83c7c",
   "metadata": {},
   "outputs": [],
   "source": [
    "import numpy as np"
   ]
  },
  {
   "cell_type": "code",
   "execution_count": 9,
   "id": "be42cb34",
   "metadata": {},
   "outputs": [],
   "source": [
    "def step_func(x):   ##Heavy side step function\n",
    "    if x>=0:\n",
    "        return 1\n",
    "    else: \n",
    "        return 0"
   ]
  },
  {
   "cell_type": "code",
   "execution_count": 10,
   "id": "dc28e6c6",
   "metadata": {},
   "outputs": [],
   "source": [
    "def perceptron(x,w,b):      ##perceptron function \n",
    "    z = np.dot(x,w)+b\n",
    "    y = step_func(z)\n",
    "    return y"
   ]
  },
  {
   "cell_type": "markdown",
   "id": "82490275",
   "metadata": {},
   "source": [
    "#### NOT Gate (Inverter)"
   ]
  },
  {
   "cell_type": "code",
   "execution_count": 11,
   "id": "3bf1c046",
   "metadata": {},
   "outputs": [],
   "source": [
    "def not_gate(x):\n",
    "    return perceptron(x,w=-1,b=0.5)"
   ]
  },
  {
   "cell_type": "code",
   "execution_count": 12,
   "id": "aab7e285",
   "metadata": {},
   "outputs": [
    {
     "name": "stdout",
     "output_type": "stream",
     "text": [
      "NOT(0):  1\n",
      "NOT(1):  0\n"
     ]
    }
   ],
   "source": [
    "print(\"NOT(0): \", not_gate(0))\n",
    "print(\"NOT(1): \", not_gate(1))"
   ]
  },
  {
   "cell_type": "markdown",
   "id": "fb31304d",
   "metadata": {},
   "source": [
    "#### AND Gate"
   ]
  },
  {
   "cell_type": "code",
   "execution_count": 15,
   "id": "9b97259d",
   "metadata": {},
   "outputs": [],
   "source": [
    "def and_gate(x):\n",
    "    w = np.array([1,1])\n",
    "    b = -1.5\n",
    "    return perceptron(x,w,b)"
   ]
  },
  {
   "cell_type": "code",
   "execution_count": 17,
   "id": "fcdcd625",
   "metadata": {},
   "outputs": [
    {
     "name": "stdout",
     "output_type": "stream",
     "text": [
      "AND(0,0):  0\n",
      "AND(0,1):  0\n",
      "AND(1,0):  0\n",
      "AND(1,1):  1\n"
     ]
    }
   ],
   "source": [
    "print(\"AND(0,0): \", and_gate([0,0]))\n",
    "print(\"AND(0,1): \", and_gate([0,1]))\n",
    "print(\"AND(1,0): \", and_gate([1,0]))\n",
    "print(\"AND(1,1): \", and_gate([1,1]))"
   ]
  },
  {
   "cell_type": "markdown",
   "id": "d7c5e4fe",
   "metadata": {},
   "source": [
    "#### OR Gate"
   ]
  },
  {
   "cell_type": "code",
   "execution_count": 18,
   "id": "4f94ea86",
   "metadata": {},
   "outputs": [],
   "source": [
    "def or_gate(x):\n",
    "    w = np.array([1,1])\n",
    "    b = -0.5\n",
    "    return perceptron(x,w,b)"
   ]
  },
  {
   "cell_type": "code",
   "execution_count": 19,
   "id": "9c56a36d",
   "metadata": {},
   "outputs": [
    {
     "name": "stdout",
     "output_type": "stream",
     "text": [
      "OR(0,0):  0\n",
      "OR(0,1):  1\n",
      "OR(1,0):  1\n",
      "OR(1,1):  1\n"
     ]
    }
   ],
   "source": [
    "print(\"OR(0,0): \", or_gate([0,0]))\n",
    "print(\"OR(0,1): \", or_gate([0,1]))\n",
    "print(\"OR(1,0): \", or_gate([1,0]))\n",
    "print(\"OR(1,1): \", or_gate([1,1]))"
   ]
  },
  {
   "cell_type": "markdown",
   "id": "981c2929",
   "metadata": {},
   "source": [
    "#### X-OR Gate"
   ]
  },
  {
   "cell_type": "markdown",
   "id": "25cb3ef5",
   "metadata": {},
   "source": [
    "X-OR is nothing but AND(NOT(AND(x1,x2)),OR(x1,x2))"
   ]
  },
  {
   "cell_type": "code",
   "execution_count": 27,
   "id": "adf21240",
   "metadata": {},
   "outputs": [],
   "source": [
    "def X_OR_gate(x):\n",
    "        a = and_gate(x)\n",
    "        b = or_gate(x)\n",
    "        c = not_gate(a)\n",
    "        y = and_gate(np.array([b,c]))\n",
    "        return y"
   ]
  },
  {
   "cell_type": "code",
   "execution_count": 28,
   "id": "7e64116e",
   "metadata": {},
   "outputs": [
    {
     "name": "stdout",
     "output_type": "stream",
     "text": [
      "X-OR(0,0):  0\n",
      "X-OR(0,1):  1\n",
      "X-OR(1,0):  1\n",
      "X-OR(1,1):  0\n"
     ]
    }
   ],
   "source": [
    "print(\"X-OR(0,0): \", X_OR_gate([0,0]))\n",
    "print(\"X-OR(0,1): \", X_OR_gate([0,1]))\n",
    "print(\"X-OR(1,0): \", X_OR_gate([1,0]))\n",
    "print(\"X-OR(1,1): \", X_OR_gate([1,1]))"
   ]
  }
 ],
 "metadata": {
  "kernelspec": {
   "display_name": "Python 3 (ipykernel)",
   "language": "python",
   "name": "python3"
  },
  "language_info": {
   "codemirror_mode": {
    "name": "ipython",
    "version": 3
   },
   "file_extension": ".py",
   "mimetype": "text/x-python",
   "name": "python",
   "nbconvert_exporter": "python",
   "pygments_lexer": "ipython3",
   "version": "3.9.7"
  }
 },
 "nbformat": 4,
 "nbformat_minor": 5
}
